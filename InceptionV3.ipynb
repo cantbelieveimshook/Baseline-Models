{
  "cells": [
    {
      "cell_type": "markdown",
      "metadata": {
        "id": "view-in-github",
        "colab_type": "text"
      },
      "source": [
        "<a href=\"https://colab.research.google.com/github/cantbelieveimshook/Baseline-Models/blob/main/InceptionV3.ipynb\" target=\"_parent\"><img src=\"https://colab.research.google.com/assets/colab-badge.svg\" alt=\"Open In Colab\"/></a>"
      ]
    },
    {
      "cell_type": "code",
      "execution_count": null,
      "metadata": {
        "id": "NVQ9hAcjejjS"
      },
      "outputs": [],
      "source": [
        "# connects colab to your google drive\n",
        "# skip if your dataset is not on google drive or you're not using colab\n",
        "from google.colab import drive\n",
        "drive.mount('/content/drive')"
      ]
    },
    {
      "cell_type": "code",
      "execution_count": null,
      "metadata": {
        "id": "N8MjbZMve_1T"
      },
      "outputs": [],
      "source": [
        "!pip install preprocess"
      ]
    },
    {
      "cell_type": "code",
      "execution_count": null,
      "metadata": {
        "id": "S5DH2mxeeplN"
      },
      "outputs": [],
      "source": [
        "%load_ext tensorboard\n",
        "import os\n",
        "import numpy as np\n",
        "import pandas as pd\n",
        "import matplotlib.pyplot as plt\n",
        "from random import shuffle\n",
        "import pickle, datetime\n",
        "import preprocess as pp\n",
        "import tensorflow as tf\n",
        "from keras.layers import Layer\n",
        "from keras.applications.inception_v3 import InceptionV3\n",
        "from tensorflow.keras.applications.resnet50 import ResNet50\n",
        "from tensorflow.keras.applications import VGG16\n",
        "from tensorflow.keras.applications import EfficientNetV2L\n",
        "from keras import regularizers\n",
        "from tensorflow import keras\n",
        "from keras.datasets import cifar10\n",
        "from keras import models, layers\n",
        "from keras.models import Model, Sequential\n",
        "from keras.layers import Input, Dense, Dropout, Flatten, Activation, Conv2D, Convolution2D, MaxPooling2D, BatchNormalization\n",
        "from keras.utils import np_utils\n",
        "from keras import optimizers\n",
        "from keras.preprocessing import sequence\n",
        "from keras.preprocessing.image import ImageDataGenerator\n",
        "import  PIL.Image\n",
        "from sklearn.model_selection import KFold\n",
        "from keras.metrics import Precision, Recall, BinaryAccuracy\n"
      ]
    },
    {
      "cell_type": "code",
      "execution_count": null,
      "metadata": {
        "id": "UXtOOqLIfDjB"
      },
      "outputs": [],
      "source": [
        "data_path = 'put your dataset path here'\n",
        "img_path= data_path\n",
        "\n",
        "\n",
        "os.chdir(img_path) # changes the current working directory to the file path specified. This directory should be the directory of data you plan on using for the model'\n",
        "print(os.path.abspath(os.getcwd()))"
      ]
    },
    {
      "cell_type": "code",
      "execution_count": null,
      "metadata": {
        "id": "LW_Th0Kte6H6"
      },
      "outputs": [],
      "source": [
        "# stops training if training accuracy exceeds 97%\n",
        "class myCallback(tf.keras.callbacks.Callback):\n",
        "  def on_epoch_end(self, epoch, logs={}):\n",
        "    if(logs.get('accuracy')>0.97):\n",
        "      print(\"\\nReached 97.0% accuracy so cancelling training!\")\n",
        "      self.model.stop_training = True"
      ]
    },
    {
      "cell_type": "code",
      "execution_count": null,
      "metadata": {
        "id": "gCkd4EbtfG8a"
      },
      "outputs": [],
      "source": [
        "base_model = InceptionV3(input_shape = (256,256,3), include_top = False, weights = 'imagenet')\n",
        "# base_model = ResNet50(input_shape = (256,256,3), include_top = False, weights = 'imagenet')\n",
        "# base_model = VGG16(input_shape = (256, 256 ,3), include_top=False, weights=\"imagenet\")\n",
        "# base_model = EfficientNetV2L(input_shape=(256, 256, 3), include_top=False, weights=\"imagenet\")"
      ]
    },
    {
      "cell_type": "code",
      "execution_count": null,
      "metadata": {
        "id": "YHMdTzCTC5HM"
      },
      "outputs": [],
      "source": [
        "for layer in base_model.layers:\n",
        "    layer.trainable = False # make sure layers are not trainable\n",
        "\n",
        "last_layer = base_model.layers[-1]\n",
        "\n",
        "last_output = last_layer.output\n",
        "\n",
        "x = layers.Flatten()(last_output)\n",
        "\n",
        "x = layers.Dense(1, activation='sigmoid')(x) # add binary classification layer\n",
        "\n",
        "model = Model(base_model.input, x) \n",
        "\n",
        "\n",
        "\n",
        "model.summary()"
      ]
    },
    {
      "cell_type": "code",
      "execution_count": null,
      "metadata": {
        "id": "8s0x7waIr2Pp"
      },
      "outputs": [],
      "source": [
        "batch_size = 32\n",
        "\n",
        "# this is the augmentation configuration used for training\n",
        "train_datagen = ImageDataGenerator(\n",
        "        width_shift_range = 0.2,\n",
        "        rescale=1./255,\n",
        "        shear_range=0.2,\n",
        "        horizontal_flip=True,\n",
        "        )\n",
        "\n",
        "# this is the augmentation configuration used for testing\n",
        "test_datagen = ImageDataGenerator(\n",
        "        rescale=1./255)\n",
        "\n",
        "# this is a generator that will read pictures found in\n",
        "# subfolers of 'data/train', and indefinitely generate\n",
        "# batches of augmented image data\n",
        "train_generator = train_datagen.flow_from_directory(\n",
        "        './train', # target directory\n",
        "        target_size=(256, 256),\n",
        "        batch_size=batch_size,\n",
        "        class_mode='binary')\n",
        "\n",
        "# this is the same generator, but for validation data\n",
        "validation_generator = train_datagen.flow_from_directory(\n",
        "        './validation',\n",
        "        target_size=(256, 256),\n",
        "        batch_size=batch_size,\n",
        "        class_mode='binary')\n",
        "\n",
        "# this is the same generator, but for test data\n",
        "test_generator = test_datagen.flow_from_directory(\n",
        "        './test',\n",
        "        target_size=(256, 256),\n",
        "        batch_size=batch_size,\n",
        "        class_mode= 'binary')\n"
      ]
    },
    {
      "cell_type": "code",
      "execution_count": null,
      "metadata": {
        "id": "mhq3lm0Ir4XS"
      },
      "outputs": [],
      "source": [
        "model.compile(optimizer = keras.optimizers.Adam(), \n",
        "              loss = 'binary_crossentropy', \n",
        "              metrics = ['accuracy'])"
      ]
    },
    {
      "cell_type": "code",
      "execution_count": null,
      "metadata": {
        "id": "6SD-WzM7r4uK"
      },
      "outputs": [],
      "source": [
        "callbacks = myCallback()\n",
        "\n",
        "k = 100\n",
        "h2 = model.fit(        \n",
        "        train_generator,\n",
        "        epochs = k,\n",
        "        validation_data=validation_generator,\n",
        "        callbacks = [callbacks],\n",
        "        )"
      ]
    },
    {
      "cell_type": "code",
      "execution_count": null,
      "metadata": {
        "id": "9SXwDvlFCVK6"
      },
      "outputs": [],
      "source": [
        "# set k to be the number of epochs reached before the training stopped\n",
        "k = 146\n",
        "\n",
        "print(\"Average training accuracy: \",sum(h2.history['accuracy'])/k)\n",
        "print(\"Average training loss: \",sum(h2.history['loss'])/k)\n",
        "print(\"Average validation accuracy: \",sum(h2.history['val_accuracy'])/k)\n",
        "print(\"Average validation loss: \",sum(h2.history['val_loss'])/k)"
      ]
    },
    {
      "cell_type": "code",
      "execution_count": null,
      "metadata": {
        "id": "pdoRn9pp3mVa"
      },
      "outputs": [],
      "source": [
        "# plot training and validation accuracies\n",
        "plt.plot(h2.history['accuracy'])\n",
        "plt.plot(h2.history['val_accuracy'])\n",
        "plt.title('Training and Validation Accuracies')\n",
        "plt.ylabel('Accuracy')\n",
        "plt.xlabel('Epoch')\n",
        "plt.legend(['Training', 'Validation'], loc = 'upper left')\n",
        "plt.show()"
      ]
    },
    {
      "cell_type": "code",
      "execution_count": null,
      "metadata": {
        "id": "qtRFPXVM3ryL"
      },
      "outputs": [],
      "source": [
        "# plot training and validation losses\n",
        "plt.plot(h2.history['loss'])\n",
        "plt.plot(h2.history['val_loss'])\n",
        "plt.title('Training and Validation Losses')\n",
        "plt.ylabel('Loss')\n",
        "plt.xlabel('Epoch')\n",
        "plt.legend(['Training', 'Validation'], loc = 'upper left')\n",
        "plt.show()"
      ]
    },
    {
      "cell_type": "code",
      "execution_count": null,
      "metadata": {
        "id": "REX_ZYBU3xsE"
      },
      "outputs": [],
      "source": [
        "import sklearn.metrics as metrics\n",
        "\n",
        "# get confusion matrix\n",
        "pred = model2.predict(validation_generator)\n",
        "\n",
        "print(\"Confusion Matrix: \\n\")\n",
        "true_classes = validation_generator.classes\n",
        "class_labels = list(validation_generator.class_indices.keys())\n",
        "pred = np.round(pred)\n",
        "confusion_matrix = metrics.confusion_matrix(y_true=true_classes, y_pred=pred)\n",
        "confusion_matrix\n"
      ]
    },
    {
      "cell_type": "code",
      "execution_count": null,
      "metadata": {
        "id": "LfKIlhdPQMwa"
      },
      "outputs": [],
      "source": [
        "# get test accuracy\n",
        "_, acc = model.evaluate(test_generator)\n",
        "print(acc)"
      ]
    }
  ],
  "metadata": {
    "accelerator": "GPU",
    "colab": {
      "collapsed_sections": [],
      "name": "InceptionV3.ipynb",
      "provenance": [],
      "include_colab_link": true
    },
    "gpuClass": "standard",
    "kernelspec": {
      "display_name": "Python 3",
      "name": "python3"
    },
    "language_info": {
      "name": "python"
    }
  },
  "nbformat": 4,
  "nbformat_minor": 0
}