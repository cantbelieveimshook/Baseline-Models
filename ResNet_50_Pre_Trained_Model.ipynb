{
  "cells": [
    {
      "cell_type": "markdown",
      "metadata": {
        "id": "view-in-github",
        "colab_type": "text"
      },
      "source": [
        "<a href=\"https://colab.research.google.com/github/cantbelieveimshook/Baseline-Models/blob/main/ResNet_50_Pre_Trained_Model.ipynb\" target=\"_parent\"><img src=\"https://colab.research.google.com/assets/colab-badge.svg\" alt=\"Open In Colab\"/></a>"
      ]
    },
    {
      "cell_type": "code",
      "execution_count": null,
      "metadata": {
        "colab": {
          "base_uri": "https://localhost:8080/"
        },
        "id": "HUv9EvlV2dOO",
        "outputId": "fd8002b2-013e-4dff-ac52-832f25895aad"
      },
      "outputs": [
        {
          "output_type": "stream",
          "name": "stdout",
          "text": [
            "Mounted at /content/drive\n"
          ]
        }
      ],
      "source": [
        "# connects colab to your google drive\n",
        "# skip if your dataset is not on google drive or you're not using colab\n",
        "from google.colab import drive\n",
        "drive.mount('/content/drive')"
      ]
    },
    {
      "cell_type": "code",
      "execution_count": null,
      "metadata": {
        "colab": {
          "base_uri": "https://localhost:8080/"
        },
        "id": "FaBQyHpMgmzz",
        "outputId": "904c7cce-08f5-420e-a3a6-26f9ca05d93f"
      },
      "outputs": [
        {
          "output_type": "stream",
          "name": "stdout",
          "text": [
            "Looking in indexes: https://pypi.org/simple, https://us-python.pkg.dev/colab-wheels/public/simple/\n",
            "Collecting preprocess\n",
            "  Downloading preprocess-2.0.0-py3-none-any.whl (12 kB)\n",
            "Requirement already satisfied: future in /usr/local/lib/python3.7/dist-packages (from preprocess) (0.16.0)\n",
            "Installing collected packages: preprocess\n",
            "Successfully installed preprocess-2.0.0\n"
          ]
        }
      ],
      "source": [
        "!pip install preprocess"
      ]
    },
    {
      "cell_type": "code",
      "execution_count": null,
      "metadata": {
        "id": "LKxExgyiVD_L"
      },
      "outputs": [],
      "source": [
        "%load_ext tensorboard\n",
        "import glob\n",
        "import os\n",
        "from os import listdir\n",
        "import numpy as np\n",
        "import pandas as pd\n",
        "import matplotlib.pyplot as plt\n",
        "from random import shuffle\n",
        "import pickle, datetime\n",
        "import preprocess as pp\n",
        "import cv2\n",
        "from pathlib import Path\n",
        "import tensorflow as tf\n",
        "\n",
        "from tensorflow import keras\n",
        "from keras.datasets import cifar10\n",
        "from tensorflow.keras import models, layers\n",
        "from tensorflow.keras.models import Model, Sequential\n",
        "from keras.layers import Input, Dense, Dropout, Flatten, Activation\n",
        "from keras.layers import Conv2D, Convolution2D, MaxPooling2D, MaxPool2D\n",
        "from keras.layers.convolutional import ZeroPadding2D\n",
        "from tensorflow.keras.layers import BatchNormalization\n",
        "from keras.utils import np_utils\n",
        "from tensorflow.keras import optimizers\n",
        "from keras.preprocessing import sequence\n",
        "from keras.preprocessing.image import ImageDataGenerator\n",
        "\n",
        "\n",
        "\n",
        "import  PIL.Image"
      ]
    },
    {
      "cell_type": "code",
      "execution_count": null,
      "metadata": {
        "colab": {
          "base_uri": "https://localhost:8080/"
        },
        "id": "4Fap6urzIqsr",
        "outputId": "d8f39cf5-d15f-4ca3-9fcd-8b3896eb1da6"
      },
      "outputs": [
        {
          "output_type": "stream",
          "name": "stdout",
          "text": [
            "/content/drive/.shortcut-targets-by-id/1tigMWT0fiaXboH1G3YFC0f5RZOEUYf9L/Big Data REU 2022 Team 1/REU 2022 Research/Datasets/new-test-data_Seraj/fft-denoised\n"
          ]
        }
      ],
      "source": [
        "data_path = 'put your dataset path here'\n",
        "img_path= data_path\n",
        "\n",
        "\n",
        "os.chdir(img_path) # changes the current working directory to the file path specified. This directory should be the directory of data you plan on using for the model'\n",
        "print(os.path.abspath(os.getcwd()))"
      ]
    },
    {
      "cell_type": "code",
      "source": [
        "# stops training if training accuracy exceeds 97%\n",
        "class myCallback(tf.keras.callbacks.Callback):\n",
        "  def on_epoch_end(self, epoch, logs={}):\n",
        "    if(logs.get('accuracy')>0.97):\n",
        "      print(\"\\nReached 97.0% accuracy so cancelling training!\")\n",
        "      self.model.stop_training = True"
      ],
      "metadata": {
        "id": "SfTvp8ClCRyS"
      },
      "execution_count": null,
      "outputs": []
    },
    {
      "cell_type": "code",
      "execution_count": null,
      "metadata": {
        "id": "qu9wo85vIqss",
        "colab": {
          "base_uri": "https://localhost:8080/"
        },
        "outputId": "0068a053-8e58-4650-e376-f56db4811af7"
      },
      "outputs": [
        {
          "output_type": "stream",
          "name": "stdout",
          "text": [
            "Found 710 images belonging to 2 classes.\n",
            "Found 140 images belonging to 2 classes.\n",
            "Found 236 images belonging to 2 classes.\n"
          ]
        }
      ],
      "source": [
        "batch_size = 32\n",
        "\n",
        "\n",
        "# # this is the augmentation configuration we will use for training\n",
        "train_datagen = ImageDataGenerator(\n",
        "        rotation_range = 40,\n",
        "        width_shift_range = 0.2,\n",
        "        height_shift_range = 0.2,\n",
        "        rescale=1./255,\n",
        "        shear_range=0.2,\n",
        "        zoom_range=0.2,\n",
        "        )\n",
        "\n",
        "# this is the augmentation configuration we will use for testing:\n",
        "# only rescaling\n",
        "test_datagen = ImageDataGenerator(\n",
        "        rescale=1./255)\n",
        "\n",
        "# this is a generator that will read pictures found in\n",
        "# subfolers of 'data/train', and indefinitely generate\n",
        "# batches of augmented image data\n",
        "train_generator = train_datagen.flow_from_directory(\n",
        "        './train',  # this is the target directory\n",
        "        target_size=(256, 256),  # all images will be resized to 150x150\n",
        "        batch_size=batch_size,\n",
        "        class_mode='binary')  # since we use binary_crossentropy loss, we need binary labels\n",
        "\n",
        "# this is a similar generator, for validation data\n",
        "validation_generator = test_datagen.flow_from_directory(\n",
        "        './validation',\n",
        "        target_size=(256, 256),\n",
        "        batch_size=batch_size,\n",
        "        class_mode='binary')\n",
        "\n",
        "# this is a similar generator, for validation data\n",
        "test_generator = test_datagen.flow_from_directory(\n",
        "        './test',\n",
        "        target_size=(256, 256),\n",
        "        batch_size=batch_size,\n",
        "        class_mode='binary',\n",
        "        shuffle=False)\n"
      ]
    },
    {
      "cell_type": "code",
      "execution_count": null,
      "metadata": {
        "id": "ZvmqnrEi0CFH",
        "colab": {
          "base_uri": "https://localhost:8080/"
        },
        "outputId": "59c179ba-b6eb-4a07-edb6-4cd6c0a2afe1"
      },
      "outputs": [
        {
          "output_type": "stream",
          "name": "stdout",
          "text": [
            "Downloading data from https://storage.googleapis.com/tensorflow/keras-applications/resnet/resnet50_weights_tf_dim_ordering_tf_kernels_notop.h5\n",
            "94773248/94765736 [==============================] - 2s 0us/step\n",
            "94781440/94765736 [==============================] - 2s 0us/step\n"
          ]
        }
      ],
      "source": [
        "from tensorflow.keras.applications.resnet50 import ResNet50\n",
        "from tensorflow.keras.optimizers import RMSprop\n",
        "\n",
        "# import pre-trained model\n",
        "base_model = ResNet50(input_shape = (256,256,3), include_top = False, weights = 'imagenet')\n",
        "\n",
        "\n",
        "x = layers.GlobalAveragePooling2D()(base_model.output)\n",
        "\n",
        "# Add a final sigmoid layer with 1 node for classification output\n",
        "x = layers.Dense(1, activation='sigmoid')(x)\n",
        "\n",
        "model = Model(base_model.input, x)\n",
        "\n",
        "model.compile(optimizer = \"Adam\", loss = 'binary_crossentropy', metrics = ['accuracy'])\n",
        "\n"
      ]
    },
    {
      "cell_type": "code",
      "execution_count": null,
      "metadata": {
        "colab": {
          "base_uri": "https://localhost:8080/"
        },
        "id": "bCwYe1iv9lrF",
        "outputId": "68735f0a-f25c-4357-f3a3-59d560077a9c"
      },
      "outputs": [
        {
          "output_type": "stream",
          "name": "stdout",
          "text": [
            "Epoch 1/100\n",
            "23/23 [==============================] - 296s 12s/step - loss: 0.8888 - accuracy: 0.6423 - val_loss: 9275291.0000 - val_accuracy: 0.5000\n",
            "Epoch 2/100\n",
            "23/23 [==============================] - 29s 1s/step - loss: 0.6402 - accuracy: 0.6507 - val_loss: 213212.6719 - val_accuracy: 0.5000\n",
            "Epoch 3/100\n",
            "23/23 [==============================] - 29s 1s/step - loss: 0.6065 - accuracy: 0.6761 - val_loss: 32530.5352 - val_accuracy: 0.5000\n",
            "Epoch 4/100\n",
            "23/23 [==============================] - 29s 1s/step - loss: 0.5763 - accuracy: 0.6859 - val_loss: 4930.8101 - val_accuracy: 0.5000\n",
            "Epoch 5/100\n",
            "23/23 [==============================] - 29s 1s/step - loss: 0.5599 - accuracy: 0.7028 - val_loss: 270.3857 - val_accuracy: 0.5000\n",
            "Epoch 6/100\n",
            "23/23 [==============================] - 29s 1s/step - loss: 0.5708 - accuracy: 0.7070 - val_loss: 27.9029 - val_accuracy: 0.5000\n",
            "Epoch 7/100\n",
            "23/23 [==============================] - 30s 1s/step - loss: 0.5611 - accuracy: 0.6789 - val_loss: 18.3556 - val_accuracy: 0.5000\n",
            "Epoch 8/100\n",
            "23/23 [==============================] - 29s 1s/step - loss: 0.5511 - accuracy: 0.7070 - val_loss: 0.7025 - val_accuracy: 0.5000\n",
            "Epoch 9/100\n",
            "23/23 [==============================] - 29s 1s/step - loss: 0.5319 - accuracy: 0.7338 - val_loss: 0.6948 - val_accuracy: 0.5000\n",
            "Epoch 10/100\n",
            "23/23 [==============================] - 30s 1s/step - loss: 0.5357 - accuracy: 0.7239 - val_loss: 0.6938 - val_accuracy: 0.5000\n",
            "Epoch 11/100\n",
            "23/23 [==============================] - 30s 1s/step - loss: 0.5333 - accuracy: 0.7239 - val_loss: 3.1310 - val_accuracy: 0.5000\n",
            "Epoch 12/100\n",
            "23/23 [==============================] - 30s 1s/step - loss: 0.5094 - accuracy: 0.7423 - val_loss: 3.1567 - val_accuracy: 0.5000\n",
            "Epoch 13/100\n",
            "23/23 [==============================] - 29s 1s/step - loss: 0.4969 - accuracy: 0.7620 - val_loss: 0.7124 - val_accuracy: 0.5000\n",
            "Epoch 14/100\n",
            "23/23 [==============================] - 29s 1s/step - loss: 0.4951 - accuracy: 0.7662 - val_loss: 15.2828 - val_accuracy: 0.5000\n",
            "Epoch 15/100\n",
            "23/23 [==============================] - 29s 1s/step - loss: 0.5131 - accuracy: 0.7296 - val_loss: 1.0099 - val_accuracy: 0.5000\n",
            "Epoch 16/100\n",
            "23/23 [==============================] - 30s 1s/step - loss: 0.4853 - accuracy: 0.7676 - val_loss: 0.6983 - val_accuracy: 0.5000\n",
            "Epoch 17/100\n",
            "23/23 [==============================] - 30s 1s/step - loss: 0.4855 - accuracy: 0.7732 - val_loss: 0.8959 - val_accuracy: 0.5000\n",
            "Epoch 18/100\n",
            "23/23 [==============================] - 30s 1s/step - loss: 0.4642 - accuracy: 0.7901 - val_loss: 1.0005 - val_accuracy: 0.5000\n",
            "Epoch 19/100\n",
            "23/23 [==============================] - 30s 1s/step - loss: 0.4769 - accuracy: 0.7662 - val_loss: 4.2440 - val_accuracy: 0.5000\n",
            "Epoch 20/100\n",
            "23/23 [==============================] - 29s 1s/step - loss: 0.4922 - accuracy: 0.7634 - val_loss: 0.7213 - val_accuracy: 0.5000\n",
            "Epoch 21/100\n",
            "23/23 [==============================] - 30s 1s/step - loss: 0.4467 - accuracy: 0.7958 - val_loss: 0.6932 - val_accuracy: 0.5000\n",
            "Epoch 22/100\n",
            "23/23 [==============================] - 30s 1s/step - loss: 0.4418 - accuracy: 0.7887 - val_loss: 0.8274 - val_accuracy: 0.5000\n",
            "Epoch 23/100\n",
            "23/23 [==============================] - 29s 1s/step - loss: 0.5114 - accuracy: 0.7493 - val_loss: 0.6888 - val_accuracy: 0.5000\n",
            "Epoch 24/100\n",
            "23/23 [==============================] - 30s 1s/step - loss: 0.4823 - accuracy: 0.7648 - val_loss: 3.9856 - val_accuracy: 0.5000\n",
            "Epoch 25/100\n",
            "23/23 [==============================] - 29s 1s/step - loss: 0.4302 - accuracy: 0.8127 - val_loss: 6.1716 - val_accuracy: 0.5000\n",
            "Epoch 26/100\n",
            "23/23 [==============================] - 29s 1s/step - loss: 0.4232 - accuracy: 0.7944 - val_loss: 1.6060 - val_accuracy: 0.4929\n",
            "Epoch 27/100\n",
            "23/23 [==============================] - 29s 1s/step - loss: 0.4295 - accuracy: 0.8042 - val_loss: 0.6921 - val_accuracy: 0.5786\n",
            "Epoch 28/100\n",
            "23/23 [==============================] - 29s 1s/step - loss: 0.4096 - accuracy: 0.8028 - val_loss: 0.6942 - val_accuracy: 0.4357\n",
            "Epoch 29/100\n",
            "23/23 [==============================] - 29s 1s/step - loss: 0.3886 - accuracy: 0.8268 - val_loss: 0.7075 - val_accuracy: 0.3929\n",
            "Epoch 30/100\n",
            "23/23 [==============================] - 29s 1s/step - loss: 0.3968 - accuracy: 0.8070 - val_loss: 4.0845 - val_accuracy: 0.4643\n",
            "Epoch 31/100\n",
            "23/23 [==============================] - 29s 1s/step - loss: 0.3926 - accuracy: 0.8268 - val_loss: 7.3677 - val_accuracy: 0.5000\n",
            "Epoch 32/100\n",
            "23/23 [==============================] - 30s 1s/step - loss: 0.3683 - accuracy: 0.8239 - val_loss: 1.9578 - val_accuracy: 0.4429\n",
            "Epoch 33/100\n",
            "23/23 [==============================] - 29s 1s/step - loss: 0.3661 - accuracy: 0.8296 - val_loss: 11.6352 - val_accuracy: 0.5000\n",
            "Epoch 34/100\n",
            "23/23 [==============================] - 29s 1s/step - loss: 0.3501 - accuracy: 0.8479 - val_loss: 5.8124 - val_accuracy: 0.5000\n",
            "Epoch 35/100\n",
            "23/23 [==============================] - 30s 1s/step - loss: 0.3423 - accuracy: 0.8423 - val_loss: 1.1935 - val_accuracy: 0.4214\n",
            "Epoch 36/100\n",
            "23/23 [==============================] - 29s 1s/step - loss: 0.3042 - accuracy: 0.8746 - val_loss: 4.4162 - val_accuracy: 0.4929\n",
            "Epoch 37/100\n",
            "23/23 [==============================] - 29s 1s/step - loss: 0.3671 - accuracy: 0.8507 - val_loss: 0.7036 - val_accuracy: 0.4500\n",
            "Epoch 38/100\n",
            "23/23 [==============================] - 30s 1s/step - loss: 0.3256 - accuracy: 0.8648 - val_loss: 1.0053 - val_accuracy: 0.4786\n",
            "Epoch 39/100\n",
            "23/23 [==============================] - 30s 1s/step - loss: 0.3205 - accuracy: 0.8563 - val_loss: 1.3648 - val_accuracy: 0.4429\n",
            "Epoch 40/100\n",
            "23/23 [==============================] - 29s 1s/step - loss: 0.2889 - accuracy: 0.8634 - val_loss: 2.2389 - val_accuracy: 0.3357\n",
            "Epoch 41/100\n",
            "23/23 [==============================] - 30s 1s/step - loss: 0.3271 - accuracy: 0.8634 - val_loss: 2.6517 - val_accuracy: 0.4786\n",
            "Epoch 42/100\n",
            "23/23 [==============================] - 30s 1s/step - loss: 0.3357 - accuracy: 0.8521 - val_loss: 2.8667 - val_accuracy: 0.4857\n",
            "Epoch 43/100\n",
            "23/23 [==============================] - 29s 1s/step - loss: 0.2852 - accuracy: 0.8831 - val_loss: 1.3437 - val_accuracy: 0.4857\n",
            "Epoch 44/100\n",
            "23/23 [==============================] - 29s 1s/step - loss: 0.2880 - accuracy: 0.8775 - val_loss: 3.0055 - val_accuracy: 0.5071\n",
            "Epoch 45/100\n",
            "23/23 [==============================] - 29s 1s/step - loss: 0.4114 - accuracy: 0.8183 - val_loss: 2.5763 - val_accuracy: 0.5143\n",
            "Epoch 46/100\n",
            "23/23 [==============================] - 29s 1s/step - loss: 0.3262 - accuracy: 0.8831 - val_loss: 1.2550 - val_accuracy: 0.6214\n",
            "Epoch 47/100\n",
            "23/23 [==============================] - 29s 1s/step - loss: 0.3071 - accuracy: 0.8859 - val_loss: 1.5728 - val_accuracy: 0.5286\n",
            "Epoch 48/100\n",
            "23/23 [==============================] - 29s 1s/step - loss: 0.1967 - accuracy: 0.9239 - val_loss: 0.7982 - val_accuracy: 0.6429\n",
            "Epoch 49/100\n",
            "23/23 [==============================] - 29s 1s/step - loss: 0.2149 - accuracy: 0.9028 - val_loss: 0.8557 - val_accuracy: 0.7500\n",
            "Epoch 50/100\n",
            "23/23 [==============================] - 29s 1s/step - loss: 0.1877 - accuracy: 0.9254 - val_loss: 1.0432 - val_accuracy: 0.6929\n",
            "Epoch 51/100\n",
            "23/23 [==============================] - 29s 1s/step - loss: 0.2445 - accuracy: 0.9225 - val_loss: 0.7518 - val_accuracy: 0.6714\n",
            "Epoch 52/100\n",
            "23/23 [==============================] - 29s 1s/step - loss: 0.1986 - accuracy: 0.9127 - val_loss: 0.9462 - val_accuracy: 0.6714\n",
            "Epoch 53/100\n",
            "23/23 [==============================] - 29s 1s/step - loss: 0.1461 - accuracy: 0.9394 - val_loss: 1.6571 - val_accuracy: 0.5929\n",
            "Epoch 54/100\n",
            "23/23 [==============================] - 29s 1s/step - loss: 0.1118 - accuracy: 0.9549 - val_loss: 1.3016 - val_accuracy: 0.6571\n",
            "Epoch 55/100\n",
            "23/23 [==============================] - 29s 1s/step - loss: 0.1700 - accuracy: 0.9366 - val_loss: 3.4555 - val_accuracy: 0.6429\n",
            "Epoch 56/100\n",
            "23/23 [==============================] - 29s 1s/step - loss: 0.1894 - accuracy: 0.9268 - val_loss: 2.1009 - val_accuracy: 0.6786\n",
            "Epoch 57/100\n",
            "23/23 [==============================] - 29s 1s/step - loss: 0.1888 - accuracy: 0.9254 - val_loss: 2.2459 - val_accuracy: 0.6714\n",
            "Epoch 58/100\n",
            "23/23 [==============================] - 29s 1s/step - loss: 0.2167 - accuracy: 0.9028 - val_loss: 2.2844 - val_accuracy: 0.6071\n",
            "Epoch 59/100\n",
            "23/23 [==============================] - 29s 1s/step - loss: 0.2190 - accuracy: 0.9197 - val_loss: 1.4578 - val_accuracy: 0.6000\n",
            "Epoch 60/100\n",
            "23/23 [==============================] - 29s 1s/step - loss: 0.1927 - accuracy: 0.9324 - val_loss: 1.4661 - val_accuracy: 0.6929\n",
            "Epoch 61/100\n",
            "23/23 [==============================] - 29s 1s/step - loss: 0.0981 - accuracy: 0.9662 - val_loss: 1.4318 - val_accuracy: 0.6643\n",
            "Epoch 62/100\n",
            "23/23 [==============================] - 29s 1s/step - loss: 0.1220 - accuracy: 0.9535 - val_loss: 1.8873 - val_accuracy: 0.6857\n",
            "Epoch 63/100\n",
            "23/23 [==============================] - 29s 1s/step - loss: 0.1051 - accuracy: 0.9690 - val_loss: 1.9386 - val_accuracy: 0.6571\n",
            "Epoch 64/100\n",
            "23/23 [==============================] - 29s 1s/step - loss: 0.1146 - accuracy: 0.9549 - val_loss: 2.0023 - val_accuracy: 0.5857\n",
            "Epoch 65/100\n",
            "23/23 [==============================] - 29s 1s/step - loss: 0.1118 - accuracy: 0.9563 - val_loss: 4.5023 - val_accuracy: 0.6929\n",
            "Epoch 66/100\n",
            "23/23 [==============================] - 29s 1s/step - loss: 0.1429 - accuracy: 0.9479 - val_loss: 18.3303 - val_accuracy: 0.5571\n",
            "Epoch 67/100\n",
            "23/23 [==============================] - 29s 1s/step - loss: 0.1336 - accuracy: 0.9507 - val_loss: 1.9754 - val_accuracy: 0.6500\n",
            "Epoch 68/100\n",
            "23/23 [==============================] - 29s 1s/step - loss: 0.2381 - accuracy: 0.9169 - val_loss: 1.4151 - val_accuracy: 0.6071\n",
            "Epoch 69/100\n",
            "23/23 [==============================] - 29s 1s/step - loss: 0.3074 - accuracy: 0.8845 - val_loss: 1.2481 - val_accuracy: 0.6929\n",
            "Epoch 70/100\n",
            "23/23 [==============================] - 29s 1s/step - loss: 0.1966 - accuracy: 0.9211 - val_loss: 1.3398 - val_accuracy: 0.6571\n",
            "Epoch 71/100\n",
            "23/23 [==============================] - 29s 1s/step - loss: 0.1504 - accuracy: 0.9408 - val_loss: 0.7526 - val_accuracy: 0.6429\n",
            "Epoch 72/100\n",
            "23/23 [==============================] - 29s 1s/step - loss: 0.1204 - accuracy: 0.9620 - val_loss: 1.3805 - val_accuracy: 0.6357\n",
            "Epoch 73/100\n",
            "23/23 [==============================] - 29s 1s/step - loss: 0.1167 - accuracy: 0.9535 - val_loss: 1.6677 - val_accuracy: 0.6786\n",
            "Epoch 74/100\n",
            "23/23 [==============================] - 29s 1s/step - loss: 0.1214 - accuracy: 0.9634 - val_loss: 1.2731 - val_accuracy: 0.7857\n",
            "Epoch 75/100\n",
            "23/23 [==============================] - 29s 1s/step - loss: 0.1694 - accuracy: 0.9366 - val_loss: 4.1389 - val_accuracy: 0.6357\n",
            "Epoch 76/100\n",
            "23/23 [==============================] - 29s 1s/step - loss: 0.1616 - accuracy: 0.9521 - val_loss: 6.1539 - val_accuracy: 0.5429\n",
            "Epoch 77/100\n",
            "23/23 [==============================] - 29s 1s/step - loss: 0.1359 - accuracy: 0.9493 - val_loss: 1.4755 - val_accuracy: 0.7643\n",
            "Epoch 78/100\n",
            "23/23 [==============================] - 29s 1s/step - loss: 0.1772 - accuracy: 0.9338 - val_loss: 1.3352 - val_accuracy: 0.5143\n",
            "Epoch 79/100\n",
            "23/23 [==============================] - 29s 1s/step - loss: 0.1560 - accuracy: 0.9437 - val_loss: 5.1442 - val_accuracy: 0.4357\n",
            "Epoch 80/100\n",
            "23/23 [==============================] - ETA: 0s - loss: 0.0805 - accuracy: 0.9761\n",
            "Reached 97.0% accuracy so cancelling training!\n",
            "23/23 [==============================] - 29s 1s/step - loss: 0.0805 - accuracy: 0.9761 - val_loss: 3.6156 - val_accuracy: 0.5857\n"
          ]
        }
      ],
      "source": [
        "callbacks = myCallback()\n",
        "\n",
        "k = 100\n",
        "h2 = model.fit(        \n",
        "        train_generator,\n",
        "        epochs = k,\n",
        "        validation_data=validation_generator,\n",
        "        callbacks = [callbacks],\n",
        "        )"
      ]
    },
    {
      "cell_type": "code",
      "execution_count": null,
      "metadata": {
        "id": "-TXCSPxFvsRM",
        "colab": {
          "base_uri": "https://localhost:8080/"
        },
        "outputId": "59b87be9-da0b-4e48-d238-9494d7225c23"
      },
      "outputs": [
        {
          "output_type": "stream",
          "name": "stdout",
          "text": [
            "Average training accuracy:  0.6794084519147873\n",
            "Average training loss:  0.2647756341099739\n",
            "Average validation accuracy:  0.4429285708069801\n",
            "Average validation loss:  95264.71096136034\n"
          ]
        }
      ],
      "source": [
        "# set k to be the number of epochs before the training stopped\n",
        "k = 100\n",
        " \n",
        "print(\"Average training accuracy: \",sum(h2.history['accuracy'])/k)\n",
        "print(\"Average training loss: \",sum(h2.history['loss'])/k)\n",
        "print(\"Average validation accuracy: \",sum(h2.history['val_accuracy'])/k)\n",
        "print(\"Average validation loss: \",sum(h2.history['val_loss'])/k)"
      ]
    },
    {
      "cell_type": "code",
      "execution_count": null,
      "metadata": {
        "id": "hVtdI8Npv3iY"
      },
      "outputs": [],
      "source": [
        "# plot training and validation accuracies\n",
        "plt.plot(h2.history['accuracy'])\n",
        "plt.plot(h2.history['val_accuracy'])\n",
        "plt.title('Training and Validation Accuracies')\n",
        "plt.ylabel('Accuracy')\n",
        "plt.xlabel('Epoch')\n",
        "plt.legend(['Training', 'Validation'], loc = 'upper left')\n",
        "plt.show()"
      ]
    },
    {
      "cell_type": "code",
      "execution_count": null,
      "metadata": {
        "id": "Q8foSWMdv3oj"
      },
      "outputs": [],
      "source": [
        "# plot training and validation losses\n",
        "plt.plot(h2.history['loss'])\n",
        "plt.plot(h2.history['val_loss'])\n",
        "plt.title('Training and Validation Losses')\n",
        "plt.ylabel('Loss')\n",
        "plt.xlabel('Epoch')\n",
        "plt.legend(['Training', 'Validation'], loc = 'upper left')\n",
        "plt.show()"
      ]
    },
    {
      "cell_type": "code",
      "source": [
        "import sklearn.metrics as metrics\n",
        "\n",
        "# get confusion matrix\n",
        "pred = model.predict(validation_generator)\n",
        "\n",
        "print(\"Confusion Matrix: \\n\")\n",
        "true_classes = validation_generator.classes\n",
        "class_labels = list(validation_generator.class_indices.keys())\n",
        "pred = np.round(pred)\n",
        "confusion_matrix = metrics.confusion_matrix(y_true=true_classes, y_pred=pred)\n",
        "confusion_matrix\n"
      ],
      "metadata": {
        "id": "_mCBu1X1Cnv9",
        "colab": {
          "base_uri": "https://localhost:8080/"
        },
        "outputId": "3d61d0e3-44e7-4523-a806-4986790b5517"
      },
      "execution_count": null,
      "outputs": [
        {
          "output_type": "stream",
          "name": "stdout",
          "text": [
            "Confusion Matrix: \n",
            "\n"
          ]
        },
        {
          "output_type": "execute_result",
          "data": {
            "text/plain": [
              "array([[11, 59],\n",
              "       [10, 60]])"
            ]
          },
          "metadata": {},
          "execution_count": 12
        }
      ]
    },
    {
      "cell_type": "code",
      "source": [
        "# get test accuracy\n",
        "_, acc = model.evaluate(test_generator)\n",
        "print(acc)"
      ],
      "metadata": {
        "id": "y2Iz9UwkCoZy",
        "colab": {
          "base_uri": "https://localhost:8080/"
        },
        "outputId": "eab1b89f-7ce7-4537-da73-6f3e65a3ae8f"
      },
      "execution_count": null,
      "outputs": [
        {
          "output_type": "stream",
          "name": "stdout",
          "text": [
            "8/8 [==============================] - 116s 16s/step - loss: 3.8731 - accuracy: 0.5508\n",
            "0.5508474707603455\n"
          ]
        }
      ]
    }
  ],
  "metadata": {
    "accelerator": "GPU",
    "colab": {
      "collapsed_sections": [],
      "name": "ResNet 50 Pre Trained Model",
      "provenance": [],
      "include_colab_link": true
    },
    "gpuClass": "standard",
    "kernelspec": {
      "display_name": "Python 3",
      "language": "python",
      "name": "python3"
    },
    "language_info": {
      "codemirror_mode": {
        "name": "ipython",
        "version": 3
      },
      "file_extension": ".py",
      "mimetype": "text/x-python",
      "name": "python",
      "nbconvert_exporter": "python",
      "pygments_lexer": "ipython3",
      "version": "3.7.3"
    }
  },
  "nbformat": 4,
  "nbformat_minor": 0
}